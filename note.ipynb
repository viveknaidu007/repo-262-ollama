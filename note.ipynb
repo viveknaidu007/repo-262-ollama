{
 "cells": [
  {
   "cell_type": "code",
   "execution_count": null,
   "metadata": {
    "vscode": {
     "languageId": "plaintext"
    }
   },
   "outputs": [],
   "source": [
    "Download Ollama: https://ollama.com/download\n",
    "Ollama Library: https://ollama.com/library\n",
    "Ollama GitHub: https://github.com/ollama/ollama\n"
   ]
  }
 ],
 "metadata": {
  "language_info": {
   "name": "python"
  }
 },
 "nbformat": 4,
 "nbformat_minor": 2
}
